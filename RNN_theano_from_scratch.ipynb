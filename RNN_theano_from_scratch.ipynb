{
 "cells": [
  {
   "cell_type": "markdown",
   "metadata": {},
   "source": [
    "## Recurrent Neural Network from scratch"
   ]
  },
  {
   "cell_type": "markdown",
   "metadata": {},
   "source": [
    "© Christian Herta, Davide Posillipo\n",
    "\n",
    "Adapted from http://christianherta.de/lehre/dataScience/machineLearning/neuralNetworks/recurrentNeuralNetworks.php, for the Sequences class at Data Science Retreat, 2020, Berlin.\n",
    "\n",
    "Reference reading for the mathematical explanation of RNN: Deep Learning (Goodfellow et al.), section 10.2. "
   ]
  },
  {
   "cell_type": "code",
   "execution_count": 1,
   "metadata": {},
   "outputs": [],
   "source": [
    "import numpy as np\n",
    "import theano\n",
    "import theano.tensor as T\n",
    "import matplotlib.pyplot as plt\n",
    "\n",
    "dtype=theano.config.floatX\n",
    "\n",
    "%matplotlib inline"
   ]
  },
  {
   "cell_type": "code",
   "execution_count": 2,
   "metadata": {},
   "outputs": [],
   "source": [
    "from reberGrammar import reberGrammar\n",
    "n_in  = 7 \n",
    "n_hid = 10\n",
    "n_out = 7"
   ]
  },
  {
   "cell_type": "code",
   "execution_count": 3,
   "metadata": {},
   "outputs": [],
   "source": [
    "reber_grammar = reberGrammar()"
   ]
  },
  {
   "cell_type": "code",
   "execution_count": 4,
   "metadata": {},
   "outputs": [],
   "source": [
    "v = T.matrix(dtype=dtype) "
   ]
  },
  {
   "cell_type": "code",
   "execution_count": 5,
   "metadata": {},
   "outputs": [],
   "source": [
    "def rescale_weights(values, factor=1.):\n",
    "    factor = np.cast[dtype](factor)\n",
    "    _,svs,_ = np.linalg.svd(values)\n",
    "    #svs[0] is the largest singular value                      \n",
    "    values = values / svs[0]\n",
    "    return values\n",
    "\n",
    "def sample_weights(sizeX, sizeY):\n",
    "    values = np.ndarray([sizeX, sizeY], dtype=dtype)\n",
    "    for dx in range(sizeX):\n",
    "        vals = np.random.uniform(low=-1., high=1.,  size=(sizeY,))\n",
    "        #vals_norm = np.sqrt((vals**2).sum())\n",
    "        #vals = vals / vals_norm\n",
    "        values[dx,:] = vals\n",
    "    _,svs,_ = np.linalg.svd(values)\n",
    "    #svs[0] is the largest singular value                      \n",
    "    values = values / svs[0]\n",
    "    return values"
   ]
  },
  {
   "cell_type": "code",
   "execution_count": 6,
   "metadata": {},
   "outputs": [],
   "source": [
    "def get_parameter(n_in, n_out, n_hid):\n",
    "    b_h = theano.shared(np.zeros(n_hid, dtype=dtype)) \n",
    "    h0 = theano.shared(np.zeros(n_hid, dtype=dtype))\n",
    "    W_ih = theano.shared(sample_weights(n_in, n_hid))\n",
    "    W_hh = theano.shared(sample_weights(n_hid, n_hid))\n",
    "    W_ho = theano.shared(sample_weights(n_hid, n_out))\n",
    "    b_o = theano.shared(np.zeros(n_out, dtype=dtype)) \n",
    "    return W_ih, W_hh, b_h, W_ho, b_o, h0\n",
    "\n",
    "W_ih, W_hh, b_h, W_ho, b_o, h0 = get_parameter(n_in, n_out, n_hid)   \n",
    "params = [W_ih, W_hh, b_h, W_ho, b_o, h0]"
   ]
  },
  {
   "cell_type": "code",
   "execution_count": 7,
   "metadata": {},
   "outputs": [],
   "source": [
    "def logistic_function(x):\n",
    "    return 1./(1 + T.exp(-x))\n",
    "\n",
    "# sequences: x_t\n",
    "# prior results: h_tm1\n",
    "# non-sequences: W_ih, W_hh, W_ho, b_h\n",
    "def one_step(x_t, h_tm1, W_ih, W_hh, b_h, W_ho, b_o):\n",
    "    h_t = T.tanh(theano.dot(x_t, W_ih) + theano.dot(h_tm1, W_hh) + b_h)\n",
    "    y_t = theano.dot(h_t, W_ho) + b_o \n",
    "    y_t = logistic_function(y_t) \n",
    "    return [h_t, y_t]"
   ]
  },
  {
   "cell_type": "code",
   "execution_count": 8,
   "metadata": {},
   "outputs": [],
   "source": [
    "# hidden and outputs of the entire sequence\n",
    "[h_vals, o_vals], _ = theano.scan(fn=one_step, \n",
    "                                  sequences = dict(input=v, taps=[0]), \n",
    "                                  outputs_info = [h0, None], # corresponds to return type of fn\n",
    "                                  non_sequences = [W_ih, W_hh, b_h, W_ho, b_o] )"
   ]
  },
  {
   "cell_type": "code",
   "execution_count": 9,
   "metadata": {},
   "outputs": [],
   "source": [
    "# target values\n",
    "target = T.matrix(dtype=dtype)"
   ]
  },
  {
   "cell_type": "code",
   "execution_count": 10,
   "metadata": {},
   "outputs": [],
   "source": [
    "# learning rate\n",
    "lr = np.cast[dtype](0.2)\n",
    "learning_rate = theano.shared(lr)"
   ]
  },
  {
   "cell_type": "code",
   "execution_count": 11,
   "metadata": {},
   "outputs": [],
   "source": [
    "# Loss function\n",
    "cost = -T.mean(target * T.log(o_vals) + (1.- target) * T.log(1. - o_vals))"
   ]
  },
  {
   "cell_type": "code",
   "execution_count": 12,
   "metadata": {},
   "outputs": [],
   "source": [
    "def get_train_functions(cost, v, target):\n",
    "    gparams = []\n",
    "    for param in params:\n",
    "        gparam = T.grad(cost, param)\n",
    "        gparams.append(gparam)\n",
    "\n",
    "    updates=[]\n",
    "    for param, gparam in zip(params, gparams):\n",
    "        updates.append((param, param - gparam * learning_rate))\n",
    "    learn_rnn_fn = theano.function(inputs = [v, target],\n",
    "                                   outputs = cost,\n",
    "                                   updates = updates)\n",
    "    return learn_rnn_fn"
   ]
  },
  {
   "cell_type": "code",
   "execution_count": 13,
   "metadata": {},
   "outputs": [],
   "source": [
    "learn_rnn_fn = get_train_functions(cost, v, target)"
   ]
  },
  {
   "cell_type": "code",
   "execution_count": 14,
   "metadata": {},
   "outputs": [
    {
     "data": {
      "text/plain": [
       "<theano.compile.function_module.Function at 0x7f87774eff98>"
      ]
     },
     "execution_count": 14,
     "metadata": {},
     "output_type": "execute_result"
    }
   ],
   "source": [
    "learn_rnn_fn"
   ]
  },
  {
   "cell_type": "code",
   "execution_count": 15,
   "metadata": {},
   "outputs": [],
   "source": [
    "train_data = reber_grammar.get_n_examples(1000)"
   ]
  },
  {
   "cell_type": "code",
   "execution_count": 16,
   "metadata": {},
   "outputs": [],
   "source": [
    "def train_rnn(train_data, nb_epochs=50):      \n",
    "  train_errors = np.ndarray(nb_epochs)\n",
    "  for x in range(nb_epochs):\n",
    "    error = 0.\n",
    "    for j in range(len(train_data)):  \n",
    "        index = np.random.randint(0, len(train_data))\n",
    "        i, o = train_data[index]\n",
    "        train_cost = learn_rnn_fn(i, o)\n",
    "        error += train_cost\n",
    "    train_errors[x] = error\n",
    "  return train_errors\n",
    "\n",
    "nb_epochs=10\n",
    "train_errors = train_rnn(train_data, nb_epochs)"
   ]
  },
  {
   "cell_type": "code",
   "execution_count": 17,
   "metadata": {},
   "outputs": [],
   "source": [
    "def plot_learning_curve(train_errors, nb_epochs=nb_epochs):\n",
    "    plt.plot(np.arange(nb_epochs), train_errors, 'b-')\n",
    "    plt.xlabel('epochs')\n",
    "    plt.ylabel('error')"
   ]
  },
  {
   "cell_type": "code",
   "execution_count": 18,
   "metadata": {},
   "outputs": [
    {
     "data": {
      "image/png": "[encoded data removed]",
      "text/plain": [
       "<Figure size 432x288 with 1 Axes>"
      ]
     },
     "metadata": {
      "needs_background": "light"
     },
     "output_type": "display_data"
    }
   ],
   "source": [
    "plot_learning_curve(train_errors)"
   ]
  },
  {
   "cell_type": "code",
   "execution_count": 19,
   "metadata": {},
   "outputs": [],
   "source": [
    "predictions = theano.function(inputs = [v], outputs = o_vals)"
   ]
  },
  {
   "cell_type": "code",
   "execution_count": 20,
   "metadata": {},
   "outputs": [
    {
     "data": {
      "text/plain": [
       "for{cpu,scan_fn}.1"
      ]
     },
     "execution_count": 20,
     "metadata": {},
     "output_type": "execute_result"
    }
   ],
   "source": [
    "o_vals"
   ]
  },
  {
   "cell_type": "code",
   "execution_count": 21,
   "metadata": {},
   "outputs": [
    {
     "name": "stdout",
     "output_type": "stream",
     "text": [
      "[3.27740784e-03 9.96073181e-01 1.17630747e-03 8.79928712e-04\n",
      " 9.92164612e-01 9.02037173e-03 6.20220701e-03]\n",
      "[0. 1. 0. 0. 1. 0. 0.]\n",
      "[0. 1. 0. 0. 1. 0. 0.]\n",
      "\n",
      "\n",
      "[3.62494587e-04 9.67162029e-01 4.54697002e-02 4.37049130e-02\n",
      " 3.26309337e-03 9.69880128e-01 2.85830237e-04]\n",
      "[0. 1. 0. 0. 0. 1. 0.]\n",
      "[0. 1. 0. 0. 0. 1. 0.]\n",
      "\n",
      "\n",
      "[2.47969959e-04 9.98503253e-01 5.99326637e-04 5.82817510e-04\n",
      " 2.03429015e-03 9.98085469e-01 6.53863085e-04]\n",
      "[0. 1. 0. 0. 0. 1. 0.]\n",
      "[0. 1. 0. 0. 0. 1. 0.]\n",
      "\n",
      "\n",
      "[1.74773535e-04 9.97103046e-01 3.32324542e-04 3.33013537e-04\n",
      " 2.84336613e-03 9.99566347e-01 3.78200960e-04]\n",
      "[0. 1. 0. 0. 0. 1. 0.]\n",
      "[0. 1. 0. 0. 0. 1. 0.]\n",
      "\n",
      "\n",
      "[1.86864331e-04 9.98592274e-01 1.87457896e-04 1.86564513e-04\n",
      " 2.17633417e-03 9.99585426e-01 5.86877476e-04]\n",
      "[0. 1. 0. 0. 0. 1. 0.]\n",
      "[0. 1. 0. 0. 0. 1. 0.]\n",
      "\n",
      "\n",
      "[6.58624514e-04 3.75272631e-03 2.93191012e-04 1.64959007e-04\n",
      " 9.93633819e-01 9.97126159e-01 3.16940216e-03]\n",
      "[0. 0. 0. 0. 1. 1. 0.]\n",
      "[0. 0. 0. 0. 1. 1. 0.]\n",
      "\n",
      "\n",
      "[9.33994995e-04 1.64605295e-03 9.88711135e-01 9.88389132e-01\n",
      " 6.65375178e-04 3.42918253e-03 5.18611390e-03]\n",
      "[0. 0. 1. 1. 0. 0. 0.]\n",
      "[0. 0. 1. 1. 0. 0. 0.]\n",
      "\n",
      "\n",
      "[2.96766839e-04 9.96964868e-01 3.11559139e-04 3.29030537e-04\n",
      " 2.17015989e-03 9.97973125e-01 2.16578569e-03]\n",
      "[0. 1. 0. 0. 0. 1. 0.]\n",
      "[0. 1. 0. 0. 0. 1. 0.]\n",
      "\n",
      "\n",
      "[1.84093229e-04 9.98459259e-01 2.13650487e-04 2.13630967e-04\n",
      " 2.47625869e-03 9.99593998e-01 4.86317288e-04]\n",
      "[0. 1. 0. 0. 0. 1. 0.]\n",
      "[0. 1. 0. 0. 0. 1. 0.]\n",
      "\n",
      "\n",
      "[6.64075130e-04 3.72824103e-03 2.91604431e-04 1.63947114e-04\n",
      " 9.93551228e-01 9.97075332e-01 3.28697577e-03]\n",
      "[0. 0. 0. 0. 1. 1. 0.]\n",
      "[0. 0. 0. 0. 1. 1. 0.]\n",
      "\n",
      "\n",
      "[2.73828422e-03 7.40829247e-04 1.95376218e-02 2.15601524e-02\n",
      " 9.48699820e-03 1.54484159e-02 9.84000801e-01]\n",
      "[0. 0. 0. 0. 0. 0. 1.]\n",
      "[0. 0. 0. 0. 0. 0. 1.]\n",
      "\n",
      "\n"
     ]
    }
   ],
   "source": [
    "inp, outp = reber_grammar.get_one_example(10)\n",
    "pre = predictions(inp)\n",
    "for p, o in zip(pre, outp):\n",
    "    print(p) # prediction\n",
    "    print(o) # target\n",
    "    print(np.round(p))\n",
    "    print('\\n')"
   ]
  }
 ],
 "metadata": {
  "kernelspec": {
   "display_name": "Python (sequences)",
   "language": "python",
   "name": "sequences"
  },
  "language_info": {
   "codemirror_mode": {
    "name": "ipython",
    "version": 3
   },
   "file_extension": ".py",
   "mimetype": "text/x-python",
   "name": "python",
   "nbconvert_exporter": "python",
   "pygments_lexer": "ipython3",
   "version": "3.6.8"
  }
 },
 "nbformat": 4,
 "nbformat_minor": 4
}
